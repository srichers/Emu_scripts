{
 "cells": [
  {
   "cell_type": "code",
   "execution_count": null,
   "id": "0f735327",
   "metadata": {
    "scrolled": true
   },
   "outputs": [],
   "source": [
    "\n",
    "import os\n",
    "import sys\n",
    "sys.path.append(\"/mnt/scratch/henrypurcell/N3AS/Emu_scripts/spinflip\")\n",
    "import yt\n",
    "import numpy as np\n",
    "import matplotlib.pyplot as plt\n",
    "import matplotlib.patches as mpatches\n",
    "import h5py\n",
    "import spin_flip_tools as sft\n",
    "import glob\n",
    "import concurrent\n",
    "import matplotlib as mpl\n",
    "from matplotlib.ticker import (MultipleLocator, FormatStrFormatter,AutoMinorLocator,LogLocator)\n",
    "from matplotlib import cm, colors\n",
    "import matplotlib.axes as ax\n",
    "from mpl_toolkits.mplot3d import Axes3D\n",
    "#import latex\n",
    "from itertools import product\n",
    "\n",
    "\n",
    "# For ease of development, reload the relevant modules to make sure they are up to date.\n",
    "import importlib\n",
    "importlib.reload(sft)\n",
    "\n",
    "################\n",
    "# plot options #\n",
    "################\n",
    "mpl.rcParams['axes.facecolor'] = 'white'\n",
    "mpl.rcParams['figure.facecolor'] = 'white'\n",
    "mpl.rcParams['font.size'] = 10\n",
    "mpl.rcParams['font.family'] = 'serif'\n",
    "COLOR = 'black'\n",
    "mpl.rcParams['text.color'] = COLOR\n",
    "mpl.rcParams['axes.labelcolor'] = COLOR\n",
    "mpl.rcParams['xtick.color'] = COLOR\n",
    "mpl.rcParams['ytick.color'] = COLOR\n",
    "#mpl.rc('text', usetex=True)\n",
    "mpl.rcParams['xtick.major.size'] = 7\n",
    "mpl.rcParams['xtick.major.width'] = 2\n",
    "mpl.rcParams['xtick.major.pad'] = 8\n",
    "mpl.rcParams['xtick.minor.size'] = 4\n",
    "mpl.rcParams['xtick.minor.width'] = 2\n",
    "mpl.rcParams['ytick.major.size'] = 7\n",
    "mpl.rcParams['ytick.major.width'] = 2\n",
    "mpl.rcParams['ytick.minor.size'] = 4\n",
    "mpl.rcParams['ytick.minor.width'] = 2\n",
    "mpl.rcParams['axes.linewidth'] = 2\n",
    "mpl.rcParams['axes.grid'] = True\n",
    "#fig,ax = plt.subplots()\n",
    "\n",
    "def sin(theta):\n",
    "    return np.sin(theta)\n",
    "def cos(theta):\n",
    "    return np.cos(theta)\n",
    "def exp(x):\n",
    "    return np.exp(x)\n",
    "pi=np.pi"
   ]
  },
  {
   "cell_type": "code",
   "execution_count": null,
   "id": "55a74d8f",
   "metadata": {},
   "outputs": [],
   "source": [
    "location=[80,73,99]\n",
    "xmin = 75\n",
    "xmax = 83\n",
    "ymin = 67\n",
    "ymax = 77\n",
    "zmin = 97\n",
    "zmax = 99\n",
    "\n",
    "merger_data_filename = \"/mnt/scratch/shared/2-orthonormal_distributions/model_rl0_orthonormal_rotated.h5\"\n",
    "emu_data_loc = \"/mnt/scratch/shared/3-Henry_NSM_box/\"\n",
    "emu_filename = emu_data_loc + \"i{:03d}\".format(location[0])+\"_j{:03d}\".format(location[1])+\"_k{:03d}\".format(location[2])+\"/allData.h5\"\n",
    "gradient_filename = \"/mnt/scratch/shared/4-gradients/gradients.h5\"\n",
    "p_abs = 1e7 # eV"
   ]
  },
  {
   "cell_type": "code",
   "execution_count": null,
   "id": "72b0a823",
   "metadata": {
    "scrolled": true
   },
   "outputs": [],
   "source": [
    "sft.MultiPlot(location[0], location[1], location[2], emu_filename, xmin, xmax, ymin, ymax,merger_data_filename, gradient_filename = None, p_abs=p_abs).pointPlots(100,traceless = True, text = 'mag',savefig=True)"
   ]
  },
  {
   "cell_type": "code",
   "execution_count": null,
   "id": "e9713560",
   "metadata": {
    "scrolled": true
   },
   "outputs": [],
   "source": [
    "sft.SpinParams(0, emu_filename, merger_data_filename, location, p_abs).H_L_pm(0,0)"
   ]
  },
  {
   "cell_type": "code",
   "execution_count": null,
   "id": "c76151f8",
   "metadata": {},
   "outputs": [],
   "source": [
    "sft.Merger_Grid(99, merger_data_filename,\n",
    "                p_abs, theta=0, phi=0).contour_plot(savefig = False, x = 0, y = 0, xmin = 0, xmax = 200, ymin = 0, ymax = 200)"
   ]
  },
  {
   "cell_type": "code",
   "execution_count": null,
   "id": "6bf85aaf",
   "metadata": {},
   "outputs": [],
   "source": []
  }
 ],
 "metadata": {
  "kernelspec": {
   "display_name": "Python 3 (ipykernel)",
   "language": "python",
   "name": "python3"
  },
  "language_info": {
   "codemirror_mode": {
    "name": "ipython",
    "version": 3
   },
   "file_extension": ".py",
   "mimetype": "text/x-python",
   "name": "python",
   "nbconvert_exporter": "python",
   "pygments_lexer": "ipython3",
   "version": "3.10.6"
  }
 },
 "nbformat": 4,
 "nbformat_minor": 5
}
